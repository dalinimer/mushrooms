{
 "cells": [
  {
   "cell_type": "code",
   "execution_count": null,
   "metadata": {},
   "outputs": [],
   "source": [
    "import csv\n",
    "import  numpy as np\n",
    "from io import StringIO\n",
    "import tensorflow as tf\n",
    "from tensorflow import keras\n",
    "import kerastuner\n",
    "from kerastuner.tuners import RandomSearch\n",
    "\n",
    "X=np.genfromtxt('mushrooms.csv',delimiter=',',dtype= None, skip_header=1)\n",
    "np.random.shuffle(X)\n",
    "unique=[]\n",
    "for i in range(1,X.shape[1]):\n",
    "    unique.append(np.unique(X[:,i]))\n",
    "def one_hot(row,unique):\n",
    "    arrays=[]\n",
    "    for i in range(len(row)):\n",
    "        c=row[i]\n",
    "        num=np.zeros((len(unique[i])-1,1))\n",
    "        ind=np.where(unique[i]==c)\n",
    "        if ind[0]>0:\n",
    "            num[ind[0]-1,0]=1\n",
    "        arrays.append(num)\n",
    "    return np.transpose(np.concatenate(tuple(arrays)))\n",
    "X_train_initial=np.zeros((X.shape[0],95))\n",
    "for i in range(X.shape[0]):\n",
    "    X_train_initial[i]=one_hot(X[i,1:],unique)\n",
    "Y=X[:,0].reshape((X.shape[0],1))\n",
    "Y_train_initial=np.where(Y==b'e',1,0)\n",
    "X_train=X_train_initial[0:5687]\n",
    "Y_train=Y_train_initial[0:5687]\n",
    "X_valid=X_train_initial[5687:5687+1218]\n",
    "Y_valid=Y_train_initial[5687:5687+1218]\n",
    "X_test=X_train_initial[5687+1218:]\n",
    "Y_test=Y_train_initial[5687+1218:]\n",
    "print(X_train.shape)\n",
    "\n",
    "\n",
    "def build_model(hp):\n",
    "    model=tf.keras.Sequential()\n",
    "    for i in range(hp.Int('num_layers', 2,3)):\n",
    "        model.add(tf.keras.layers.Dense(units=hp.Int('units',min_value=32,max_value=254,step=32),activation='relu', kernel_initializer=\"he_normal\"))\n",
    "    model.add(tf.keras.layers.Dense(1,activation=\"sigmoid\"))\n",
    "    optimizer=tf.keras.optimizers.Adam(hp.Float('learning_rate',min_value=1e-4,max_value=1e-2,sampling='LOG',default=1e-3))\n",
    "    model.compile(optimizer=optimizer,loss='binary_crossentropy',metrics=['accuracy'])\n",
    "    return model\n",
    "tuner = RandomSearch(build_model, objective='val_accuracy',max_trials=5,executions_per_trial=3,project_name='mushroomsAdam_')\n",
    "tuner.search(X_train,Y_train,epochs=5,validation_data=(X_valid,Y_valid))\n",
    "best_model = tuner.get_best_models(num_models=1)\n",
    "best_model[0].fit(X_train,Y_train,epochs=30,validation_data=(X_valid,Y_valid))"
   ]
  }
 ],
 "metadata": {
  "kernelspec": {
   "display_name": "Python 3",
   "language": "python",
   "name": "python3"
  },
  "language_info": {
   "codemirror_mode": {
    "name": "ipython",
    "version": 3
   },
   "file_extension": ".py",
   "mimetype": "text/x-python",
   "name": "python",
   "nbconvert_exporter": "python",
   "pygments_lexer": "ipython3",
   "version": "3.7.6"
  }
 },
 "nbformat": 4,
 "nbformat_minor": 4
}
